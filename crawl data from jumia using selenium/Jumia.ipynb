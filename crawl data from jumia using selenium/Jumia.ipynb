{
 "cells": [
  {
   "cell_type": "code",
   "execution_count": 1,
   "metadata": {},
   "outputs": [],
   "source": [
    "import config\n",
    "from selenium import webdriver\n",
    "from selenium.webdriver.firefox.options import Options\n",
    "from time import sleep\n",
    "import pymysql\n",
    "import os\n",
    "import re\n",
    "from math import ceil"
   ]
  },
  {
   "cell_type": "code",
   "execution_count": 2,
   "metadata": {},
   "outputs": [],
   "source": [
    "conn = pymysql.connect(host=config.database_host, port=3306, user=config.database_user, password=config.database_pass)\n",
    "cur  = conn.cursor()"
   ]
  },
  {
   "cell_type": "code",
   "execution_count": 3,
   "metadata": {},
   "outputs": [
    {
     "data": {
      "text/plain": [
       "0"
      ]
     },
     "execution_count": 3,
     "metadata": {},
     "output_type": "execute_result"
    }
   ],
   "source": [
    "cur.execute('CREATE DATABASE IF NOT EXISTS Jumia;')\n",
    "cur.execute('use Jumia;')\n",
    "cur.execute('CREATE TABLE IF NOT EXISTS Jumia_Products(\\\n",
    "             product_title       text,\\\n",
    "             product_link        text,\\\n",
    "             current_price       int,\\\n",
    "             old_price           int,\\\n",
    "             discount_pircentage int,\\\n",
    "             discount_quantity   int\\\n",
    "             ) CHARACTER SET utf8 COLLATE utf8_general_ci;')"
   ]
  },
  {
   "cell_type": "code",
   "execution_count": 4,
   "metadata": {},
   "outputs": [],
   "source": [
    "try:\n",
    "    current_path = os.path.dirname(os.path.abspath(__file__))\n",
    "except:\n",
    "    current_path = '.'"
   ]
  },
  {
   "cell_type": "code",
   "execution_count": 5,
   "metadata": {},
   "outputs": [],
   "source": [
    "def init_driver(gecko_driver='', user_agent='', load_images=True, is_headless=False):\n",
    "    firefox_profile = webdriver.FirefoxProfile()\n",
    "    \n",
    "    firefox_profile.set_preference('dom.ipc.plugins.enabled.libflashplayer.so', False)\n",
    "    firefox_profile.set_preference(\"media.volume_scale\", \"0.0\")\n",
    "    firefox_profile.set_preference(\"dom.webnotifications.enabled\", False)\n",
    "    if user_agent != '':\n",
    "        firefox_profile.set_preference(\"general.useragent.override\", user_agent)\n",
    "    if not load_images:\n",
    "        firefox_profile.set_preference('permissions.default.image', 2)\n",
    "\n",
    "    options = Options()\n",
    "    options.headless = is_headless\n",
    "    \n",
    "    driver = webdriver.Firefox(options=options,\n",
    "                               executable_path=f'{current_path}/{gecko_driver}',\n",
    "                               firefox_profile=firefox_profile)\n",
    "    \n",
    "    return driver\n",
    "    "
   ]
  },
  {
   "cell_type": "code",
   "execution_count": 6,
   "metadata": {},
   "outputs": [],
   "source": [
    "def get_url(driver, page_url):\n",
    "    '''\n",
    "        This function opens the page from which we want to crawl data and wait for a short time, and if any ad is created \n",
    "        it will be closed\n",
    "    '''\n",
    "    driver.get(page_url)\n",
    "    sleep(config.page_load_timeout)\n",
    "    # if any advertisement displayed, close it.\n",
    "    close = driver.find_elements_by_css_selector('.close_popup')\n",
    "    if len(close) > 0:\n",
    "        close[0].click()\n",
    "\n",
    "def get_products_info_and_add_them_to_database(driver):\n",
    "    '''\n",
    "        this function will get (product_title, product_link, current_price, old_price, discount_pircentage, discount_quantity)\n",
    "        for each product exist in jumia and first: add this data to the database. second: return them as list of dictionaries\n",
    "    '''\n",
    "    \n",
    "    products = driver.find_elements_by_css_selector('div._4cl-3cm-shs article.c-prd')\n",
    "\n",
    "    products_info = []\n",
    "    for product in products:\n",
    "\n",
    "        product_title = ''\n",
    "        if len(product.find_elements_by_css_selector('div.info h3.name')) > 0:\n",
    "            product_title = product.find_elements_by_css_selector('div.info h3.name')[0].text\n",
    "\n",
    "        product_link = ''\n",
    "        if len(product.find_elements_by_css_selector('a.core')) > 0:\n",
    "            product_link = product.find_elements_by_css_selector('a.core')[0].get_attribute('href')\n",
    "\n",
    "        current_price = 0\n",
    "        if len(product.find_elements_by_css_selector('div.info div.prc')) > 0:\n",
    "            current_price = product.find_elements_by_css_selector('div.info div.prc')[0].text\n",
    "            # remove any characters, we need the price only.\n",
    "            current_price = re.sub('[\\D]', '', current_price)\n",
    "            current_price = ceil(float(current_price))\n",
    "\n",
    "        old_price = 0\n",
    "        if len(product.find_elements_by_css_selector('div.s-prc-w div.old')) > 0:\n",
    "            old_price = product.find_elements_by_css_selector('div.s-prc-w div.old')[0].text\n",
    "            # remove any characters, we need the price only.\n",
    "            old_price = re.sub('[\\D]', '', old_price)\n",
    "            old_price = ceil(float(old_price))\n",
    "\n",
    "        discount_pircentage = 0\n",
    "        discount_quantity   = 0\n",
    "        if current_price != 0 and old_price != 0 and old_price > current_price:\n",
    "            discount_quantity   = old_price - current_price\n",
    "            discount_pircentage = round((discount_quantity/old_price)*100)\n",
    "\n",
    "        # save the product data in a dictionary and append in to the products_info list.\n",
    "        product_info = {'product_title':product_title,\n",
    "                        'product_link':product_link,\n",
    "                        'current_price':current_price,\n",
    "                        'old_price':old_price,\n",
    "                        'discount_pircentage':discount_pircentage,\n",
    "                        'discount_quantity':discount_quantity}\n",
    "        products_info.append(product_info)\n",
    "        \n",
    "        all_data = (product_title, product_link, current_price, old_price, discount_pircentage, discount_quantity)\n",
    "        \n",
    "        # get all product titles from the database\n",
    "        cur.execute('SELECT product_title FROM Jumia_Products')\n",
    "        product_title_fetched = cur.fetchall()\n",
    "        \n",
    "        # check if the product not exist in the database ( if not exist, insert it)\n",
    "        if not (product_title,) in product_title_fetched:\n",
    "            cur.execute('INSERT INTO Jumia_Products VALUES' + str(all_data) +'')\n",
    "            conn.commit()\n",
    "        # if the product already exist in the database, fetch its price to check whether the price was changed or not.\n",
    "        # if the product price was changed, update it with the new one.\n",
    "        # Note: this will performed on the current_price & old_price.\n",
    "        else:\n",
    "            cur.execute(f'SELECT current_price,old_price FROM Jumia_Products WHERE product_title = \"{product_title}\"')\n",
    "            price_fetched = cur.fetchall()\n",
    "            if current_price != price_fetched[0][0] and old_price != price_fetched[0][1]:\n",
    "                cur.execute(f'UPDATE Jumia_Products SET current_price={current_price},\\\n",
    "                                                        old_price={old_price},\\\n",
    "                                                        discount_pircentage={discount_pircentage},\\\n",
    "                                                        discount_quantity={discount_quantity}\\\n",
    "                                                        WHERE product_title = \"{product_title}\"')\n",
    "                conn.commit()\n",
    "                \n",
    "        \n",
    "                                                                                   \n",
    "        \n",
    "    return products_info"
   ]
  },
  {
   "cell_type": "code",
   "execution_count": 7,
   "metadata": {},
   "outputs": [],
   "source": [
    "# open the browser then open the jumia site\n",
    "driver = init_driver(config.gecko_driver, user_agent=config.user_agent)\n",
    "driver.get(config.jumia_base_url)"
   ]
  },
  {
   "cell_type": "code",
   "execution_count": 8,
   "metadata": {},
   "outputs": [
    {
     "name": "stdout",
     "output_type": "stream",
     "text": [
      "48\n"
     ]
    }
   ],
   "source": [
    "# iterate on every page from the given categories and performs the above mentioned functions.\n",
    "for category in config.categories:\n",
    "    category_url = f'{config.jumia_base_url}/{category}'\n",
    "    for page in range(2, 6):\n",
    "        page_url = f'{category_url}/?page={page}'\n",
    "        get_url(driver, page_url)\n",
    "        \n",
    "        pruducts_info = get_products_info_and_add_them_to_database(driver)\n",
    "        print(len(pruducts_info))\n"
   ]
  },
  {
   "cell_type": "code",
   "execution_count": null,
   "metadata": {},
   "outputs": [],
   "source": []
  }
 ],
 "metadata": {
  "kernelspec": {
   "display_name": "Python 3",
   "language": "python",
   "name": "python3"
  },
  "language_info": {
   "codemirror_mode": {
    "name": "ipython",
    "version": 3
   },
   "file_extension": ".py",
   "mimetype": "text/x-python",
   "name": "python",
   "nbconvert_exporter": "python",
   "pygments_lexer": "ipython3",
   "version": "3.7.1"
  }
 },
 "nbformat": 4,
 "nbformat_minor": 2
}
