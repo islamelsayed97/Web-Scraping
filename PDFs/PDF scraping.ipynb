{
 "cells": [
  {
   "cell_type": "code",
   "execution_count": 1,
   "metadata": {},
   "outputs": [],
   "source": [
    "from PyPDF2 import PdfFileReader\n",
    "import requests\n",
    "import io\n",
    "from bs4 import BeautifulSoup"
   ]
  },
  {
   "cell_type": "code",
   "execution_count": 2,
   "metadata": {},
   "outputs": [],
   "source": [
    "# site url\n",
    "url = 'https://usda.library.cornell.edu/concern/publications/3t945q76s?locale=en#release-items'\n",
    "src = requests.get(url)\n",
    "soup = BeautifulSoup(src.content, \"lxml\")"
   ]
  },
  {
   "cell_type": "code",
   "execution_count": 3,
   "metadata": {},
   "outputs": [],
   "source": [
    "# get all divs that contain the urls\n",
    "all_pfds = soup.find_all('div', {'class':'btn-group btn-group-xs btn-group-file'})\n",
    "# loop for each one\n",
    "for i, link in enumerate(all_pfds):\n",
    "    # extract the pdf url (it exists in the first 'a' tag)\n",
    "    pdf_url = link.find('a').attrs['href']\n",
    "    # extract file name from pdf_url \n",
    "    filename = f'file_{i+1}.{pdf_url.split(\".\")[-1]}' \n",
    "    # download file using GET\n",
    "    raw = requests.get(pdf_url, stream=True)\n",
    "    # save the image recieved into the file\n",
    "    with open(filename, 'wb') as fd:\n",
    "        for chunk in raw.iter_content(chunk_size=1024):\n",
    "            fd.write(chunk)"
   ]
  },
  {
   "cell_type": "code",
   "execution_count": null,
   "metadata": {},
   "outputs": [],
   "source": []
  }
 ],
 "metadata": {
  "kernelspec": {
   "display_name": "Python 3",
   "language": "python",
   "name": "python3"
  },
  "language_info": {
   "codemirror_mode": {
    "name": "ipython",
    "version": 3
   },
   "file_extension": ".py",
   "mimetype": "text/x-python",
   "name": "python",
   "nbconvert_exporter": "python",
   "pygments_lexer": "ipython3",
   "version": "3.7.1"
  }
 },
 "nbformat": 4,
 "nbformat_minor": 2
}
